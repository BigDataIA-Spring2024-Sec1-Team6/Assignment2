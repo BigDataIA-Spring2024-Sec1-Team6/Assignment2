{
  "nbformat": 4,
  "nbformat_minor": 0,
  "metadata": {
    "colab": {
      "provenance": []
    },
    "kernelspec": {
      "name": "python3",
      "display_name": "Python 3"
    },
    "language_info": {
      "name": "python"
    }
  },
  "cells": [
    {
      "cell_type": "markdown",
      "source": [
        "##**PDF Extraction - PYPDF**\n",
        "\n",
        "PyPDF2 is a Python library for working with PDF files. It allows you to read, write, and manipulate PDF documents using Python code.\n",
        "\n",
        "One of its many features is that it allows you to extract text content from PDF files, making it easy to analyze or process the text programmatically."
      ],
      "metadata": {
        "id": "hZTu-Z4lwCIX"
      }
    },
    {
      "cell_type": "markdown",
      "source": [
        "This line imports the PyPDF2 library, which is a Python library for working with PDF files."
      ],
      "metadata": {
        "id": "QoSv_Vx1zRZ3"
      }
    },
    {
      "cell_type": "code",
      "source": [
        "pip install PyPDF2"
      ],
      "metadata": {
        "colab": {
          "base_uri": "https://localhost:8080/"
        },
        "id": "3ctwledmwINj",
        "outputId": "b98be767-2c9b-43e9-f43e-caa6bd4df822"
      },
      "execution_count": 2,
      "outputs": [
        {
          "output_type": "stream",
          "name": "stdout",
          "text": [
            "Collecting PyPDF2\n",
            "  Downloading pypdf2-3.0.1-py3-none-any.whl (232 kB)\n",
            "\u001b[?25l     \u001b[90m━━━━━━━━━━━━━━━━━━━━━━━━━━━━━━━━━━━━━━━━\u001b[0m \u001b[32m0.0/232.6 kB\u001b[0m \u001b[31m?\u001b[0m eta \u001b[36m-:--:--\u001b[0m\r\u001b[2K     \u001b[91m━━━━━━━━━━━━━━━━━━━━━━━━━━━━━\u001b[0m\u001b[91m╸\u001b[0m\u001b[90m━━━━━━━━━━\u001b[0m \u001b[32m174.1/232.6 kB\u001b[0m \u001b[31m5.3 MB/s\u001b[0m eta \u001b[36m0:00:01\u001b[0m\r\u001b[2K     \u001b[90m━━━━━━━━━━━━━━━━━━━━━━━━━━━━━━━━━━━━━━━━\u001b[0m \u001b[32m232.6/232.6 kB\u001b[0m \u001b[31m5.4 MB/s\u001b[0m eta \u001b[36m0:00:00\u001b[0m\n",
            "\u001b[?25hInstalling collected packages: PyPDF2\n",
            "Successfully installed PyPDF2-3.0.1\n"
          ]
        }
      ]
    },
    {
      "cell_type": "markdown",
      "source": [
        "Define two functions to extract the text from the pdf and to save the extracted text into a txt file.\n",
        "\n",
        "We set the input pdf_file_path and use the extract_text_from_pdf function on this file path.\n",
        "\n",
        "Similarly, we set the output_file_path along with the name of the txt file to be saved and call the save_text_to_file function on the extracted_text and the output_file_path."
      ],
      "metadata": {
        "id": "TwGhFe7kzmxo"
      }
    },
    {
      "cell_type": "code",
      "source": [
        "import PyPDF2\n",
        "\n",
        "def extract_text_from_pdf(pdf_file_path):\n",
        "    with open(pdf_file_path, 'rb') as file:\n",
        "        reader = PyPDF2.PdfReader(file)\n",
        "        text = ''\n",
        "        for page_num in range(len(reader.pages)):\n",
        "            text += reader.pages[page_num].extract_text()\n",
        "    return text\n",
        "\n",
        "def save_text_to_file(text, output_file_path):\n",
        "    with open(output_file_path, 'w', encoding='utf-8') as file:\n",
        "        file.write(text)\n",
        "\n",
        "# Setting the input PDF file path\n",
        "pdf_file_path = '/content/2024-l1-topics-combined-2.pdf'\n",
        "\n",
        "# Extracting text from the PDF file\n",
        "extracted_text = extract_text_from_pdf(pdf_file_path)\n",
        "\n",
        "# Setting the output txt file path to save the extracted text\n",
        "output_file_path = '/content/PyPDF_RR_2024-l1-combined-2.txt'\n",
        "\n",
        "# Saving the extracted text to a text file\n",
        "save_text_to_file(extracted_text, output_file_path)"
      ],
      "metadata": {
        "id": "2feZApGcwLnP"
      },
      "execution_count": 12,
      "outputs": []
    },
    {
      "cell_type": "code",
      "source": [
        "import PyPDF2\n",
        "\n",
        "def extract_text_from_pdf(pdf_file_path):\n",
        "    with open(pdf_file_path, 'rb') as file:\n",
        "        reader = PyPDF2.PdfReader(file)\n",
        "        text = ''\n",
        "        for page_num in range(len(reader.pages)):\n",
        "            text += reader.pages[page_num].extract_text()\n",
        "    return text\n",
        "\n",
        "def save_text_to_file(text, output_file_path):\n",
        "    with open(output_file_path, 'w', encoding='utf-8') as file:\n",
        "        file.write(text)\n",
        "\n",
        "# Setting the input PDF file path\n",
        "pdf_file_path = '/content/2024-l2-topics-combined-2.pdf'\n",
        "\n",
        "# Extracting text from the PDF file\n",
        "extracted_text = extract_text_from_pdf(pdf_file_path)\n",
        "\n",
        "# Setting the output txt file path to save the extracted text\n",
        "output_file_path = '/content/PyPDF_RR_2024-l2-combined-2.txt'\n",
        "\n",
        "# Saving the extracted text to a text file\n",
        "save_text_to_file(extracted_text, output_file_path)"
      ],
      "metadata": {
        "id": "S5vOsO8axAB4"
      },
      "execution_count": 13,
      "outputs": []
    },
    {
      "cell_type": "code",
      "source": [
        "import PyPDF2\n",
        "\n",
        "def extract_text_from_pdf(pdf_file_path):\n",
        "    with open(pdf_file_path, 'rb') as file:\n",
        "        reader = PyPDF2.PdfReader(file)\n",
        "        text = ''\n",
        "        for page_num in range(len(reader.pages)):\n",
        "            text += reader.pages[page_num].extract_text()\n",
        "    return text\n",
        "\n",
        "def save_text_to_file(text, output_file_path):\n",
        "    with open(output_file_path, 'w', encoding='utf-8') as file:\n",
        "        file.write(text)\n",
        "\n",
        "# Setting the input PDF file path\n",
        "pdf_file_path = '/content/2024-l3-topics-combined-2.pdf'\n",
        "\n",
        "# Extracting text from the PDF file\n",
        "extracted_text = extract_text_from_pdf(pdf_file_path)\n",
        "\n",
        "# Setting the output txt file path to save the extracted text\n",
        "output_file_path = '/content/PyPDF_RR_2024-l3-combined-2.txt'\n",
        "\n",
        "# Saving the extracted text to a text file\n",
        "save_text_to_file(extracted_text, output_file_path)"
      ],
      "metadata": {
        "id": "wFwcRpkDxDlr"
      },
      "execution_count": 14,
      "outputs": []
    },
    {
      "cell_type": "markdown",
      "source": [
        "##**PDF Extraction - GROBID**"
      ],
      "metadata": {
        "id": "inG1MUgo0gam"
      }
    },
    {
      "cell_type": "markdown",
      "source": [
        "Code in Jupyter Notebook"
      ],
      "metadata": {
        "id": "kkq-60jGNCOj"
      }
    },
    {
      "cell_type": "markdown",
      "source": [
        "##**PDF Extraction - PDFMINER**"
      ],
      "metadata": {
        "id": "zUyLPe-JO-z3"
      }
    },
    {
      "cell_type": "markdown",
      "source": [
        "We import the extract_text function from the pdfminer.high_level module. This function is used to extract text from a PDF file."
      ],
      "metadata": {
        "id": "rmzVoTu7sLIy"
      }
    },
    {
      "cell_type": "code",
      "execution_count": 8,
      "metadata": {
        "colab": {
          "base_uri": "https://localhost:8080/"
        },
        "id": "jrWxzXL0kzh7",
        "outputId": "ba001589-25a4-44bc-8243-4f5bf965d0c2"
      },
      "outputs": [
        {
          "output_type": "stream",
          "name": "stdout",
          "text": [
            "Collecting pdfminer.six\n",
            "  Downloading pdfminer.six-20231228-py3-none-any.whl (5.6 MB)\n",
            "\u001b[2K     \u001b[90m━━━━━━━━━━━━━━━━━━━━━━━━━━━━━━━━━━━━━━━━\u001b[0m \u001b[32m5.6/5.6 MB\u001b[0m \u001b[31m40.8 MB/s\u001b[0m eta \u001b[36m0:00:00\u001b[0m\n",
            "\u001b[?25hRequirement already satisfied: charset-normalizer>=2.0.0 in /usr/local/lib/python3.10/dist-packages (from pdfminer.six) (3.3.2)\n",
            "Requirement already satisfied: cryptography>=36.0.0 in /usr/local/lib/python3.10/dist-packages (from pdfminer.six) (42.0.2)\n",
            "Requirement already satisfied: cffi>=1.12 in /usr/local/lib/python3.10/dist-packages (from cryptography>=36.0.0->pdfminer.six) (1.16.0)\n",
            "Requirement already satisfied: pycparser in /usr/local/lib/python3.10/dist-packages (from cffi>=1.12->cryptography>=36.0.0->pdfminer.six) (2.21)\n",
            "Installing collected packages: pdfminer.six\n",
            "Successfully installed pdfminer.six-20231228\n"
          ]
        }
      ],
      "source": [
        "pip install pdfminer.six\n"
      ]
    },
    {
      "cell_type": "markdown",
      "source": [
        "Our function extract_text_from_pdf(pdf_file_path) extracts text from a PDF file using pdfminer and returns it as a string.\n",
        "\n",
        "The function 'save_text_to_file(text, output_file_path)' saves extracted text to a new UTF-8 encoded file at the specified output file path."
      ],
      "metadata": {
        "id": "CB7DKY_UrBGV"
      }
    },
    {
      "cell_type": "code",
      "source": [
        "from pdfminer.high_level import extract_text\n",
        "\n",
        "def extract_text_from_pdf(pdf_file_path):\n",
        "    text = extract_text(pdf_file_path)\n",
        "    return text\n",
        "\n",
        "# Setting the pdf path to extract the data from\n",
        "pdf_file_path = '/content/2024-l1-topics-combined-2.pdf'\n",
        "extracted_text = extract_text_from_pdf(pdf_file_path)\n",
        "\n",
        "def save_text_to_file(text, output_file_path):\n",
        "    with open(output_file_path, 'w', encoding='utf-8') as file:\n",
        "        file.write(text)\n",
        "\n",
        "# Setting the output txt file path to save the extracted text\n",
        "output_file_path = '/content/Pdfminer_RR_2024-l1-combined-2.txt'\n",
        "\n",
        "extracted_text = extract_text_from_pdf(pdf_file_path)\n",
        "save_text_to_file(extracted_text, output_file_path)\n"
      ],
      "metadata": {
        "id": "1L-xJSm5k0fH"
      },
      "execution_count": 15,
      "outputs": []
    },
    {
      "cell_type": "code",
      "source": [
        "from pdfminer.high_level import extract_text\n",
        "\n",
        "def extract_text_from_pdf(pdf_file_path):\n",
        "    text = extract_text(pdf_file_path)\n",
        "    return text\n",
        "\n",
        "# Setting the pdf path to extract the data from\n",
        "pdf_file_path = '/content/2024-l2-topics-combined-2.pdf'\n",
        "extracted_text = extract_text_from_pdf(pdf_file_path)\n",
        "\n",
        "def save_text_to_file(text, output_file_path):\n",
        "    with open(output_file_path, 'w', encoding='utf-8') as file:\n",
        "        file.write(text)\n",
        "\n",
        "# Setting the output txt file path to save the extracted text\n",
        "output_file_path = '/content/Pdfminer_RR_2024-l2-combined-2.txt'\n",
        "\n",
        "extracted_text = extract_text_from_pdf(pdf_file_path)\n",
        "save_text_to_file(extracted_text, output_file_path)"
      ],
      "metadata": {
        "id": "vSaADzpClP8h"
      },
      "execution_count": 16,
      "outputs": []
    },
    {
      "cell_type": "code",
      "source": [
        "from pdfminer.high_level import extract_text\n",
        "\n",
        "def extract_text_from_pdf(pdf_file_path):\n",
        "    text = extract_text(pdf_file_path)\n",
        "    return text\n",
        "\n",
        "# Setting the pdf path to extract the data from\n",
        "pdf_file_path = '/content/2024-l3-topics-combined-2.pdf'\n",
        "extracted_text = extract_text_from_pdf(pdf_file_path)\n",
        "\n",
        "def save_text_to_file(text, output_file_path):\n",
        "    with open(output_file_path, 'w', encoding='utf-8') as file:\n",
        "        file.write(text)\n",
        "\n",
        "# Setting the output txt file path to save the extracted text\n",
        "output_file_path = '/content/Pdfminer_RR_2024-l3-combined-2.txt'\n",
        "\n",
        "extracted_text = extract_text_from_pdf(pdf_file_path)\n",
        "save_text_to_file(extracted_text, output_file_path)"
      ],
      "metadata": {
        "id": "-YbNMI5Ip3ra"
      },
      "execution_count": 17,
      "outputs": []
    },
    {
      "cell_type": "markdown",
      "source": [
        "When working with PDF files, Python's pdfminer module provides a straightforward and effective method for extracting text from them and saving it to a text file. This functionality can be seamlessly integrated into larger projects or workflows that require extracting text from PDFs."
      ],
      "metadata": {
        "id": "ZgAcFcEjuMF9"
      }
    },
    {
      "cell_type": "markdown",
      "source": [
        "Reference:\n",
        "\n",
        "- Levia3 (2017). pdfminer Release 0.0.1.  https://buildmedia.readthedocs.org/media/pdf/pdfminer-docs/latest/pdfminer-docs.pdf"
      ],
      "metadata": {
        "id": "o9wfem3frJFz"
      }
    }
  ]
}